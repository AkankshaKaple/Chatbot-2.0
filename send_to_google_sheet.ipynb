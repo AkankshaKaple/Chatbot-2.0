{
 "cells": [
  {
   "cell_type": "code",
   "execution_count": 19,
   "metadata": {},
   "outputs": [
    {
     "data": {
      "text/plain": [
       "(51, 5)"
      ]
     },
     "execution_count": 19,
     "metadata": {},
     "output_type": "execute_result"
    }
   ],
   "source": [
    "from pymongo import MongoClient\n",
    "import pandas as pd\n",
    "from bson import ObjectId\n",
    "import pygsheets\n",
    "import pandas as pd\n",
    "\n",
    "\n",
    "secretkey=12345\n",
    "database='akanksha'\n",
    "chatbotuser='akanksha'\n",
    "chatbotpass='akanksha'\n",
    "dbport=27017\n",
    "\n",
    "username = chatbotuser\n",
    "password = chatbotpass\n",
    "database_name = database\n",
    "port = 27017\n",
    "server_address = \"localhost\"\n",
    "\n",
    "uri = \"mongodb://{}:{}@{}:{}/{}\".format(username, password, server_address, port, database_name)\n",
    "client = MongoClient(uri)\n",
    "db = client.akanksha\n",
    "db.list_collection_names()\n",
    "\n",
    "\n",
    "def dataframe_to_googlesheet(db, date):\n",
    "\n",
    "    question = []\n",
    "    answer = []\n",
    "    email_id = []\n",
    "    datetime = []\n",
    "    name = []\n",
    "\n",
    "    cursor = db.QuestionAnswer.find({'project_id' : '5dc15779c346052fe774a8d1'})\n",
    "\n",
    "    for i in cursor:\n",
    "        if date in str(i['datetime']):\n",
    "            if len(i['user_id']) > 0:\n",
    "                user_info = list(db.UserInformation.find({\"_id\" : ObjectId(i['user_id'])}))[0]\n",
    "\n",
    "                question.append(i['question'])\n",
    "                answer.append(i['answer'])\n",
    "                email_id.append(user_info['email_id'])\n",
    "                name.append(user_info['name'])\n",
    "                datetime.append(str(i['datetime']))\n",
    "\n",
    "    df = pd.DataFrame({'question': question, 'answer': answer, 'email_id': email_id, 'name': name, 'date': datetime})\n",
    "    return df\n",
    "\n",
    "date = \"2020-07-29\"\n",
    "df = dataframe_to_googlesheet(db, date)\n",
    "df.shape"
   ]
  },
  {
   "cell_type": "markdown",
   "metadata": {},
   "source": [
    "# Authorization"
   ]
  },
  {
   "cell_type": "code",
   "execution_count": 20,
   "metadata": {},
   "outputs": [],
   "source": [
    "#authorization\n",
    "gc = pygsheets.authorize(service_file='client_secret.json')\n",
    "\n",
    "\n",
    "sh = gc.open('Copy of Chatbot_Daily_Report')\n",
    "\n",
    "#select the first sheet \n",
    "wks = sh[0]\n",
    "\n"
   ]
  },
  {
   "cell_type": "markdown",
   "metadata": {},
   "source": [
    "# Add data to google sheet"
   ]
  },
  {
   "cell_type": "code",
   "execution_count": null,
   "metadata": {},
   "outputs": [],
   "source": [
    "wks.append_table(\n",
    "     df.values.tolist(),\n",
    "    start='A2',\n",
    "    end=None,\n",
    "    dimension='ROWS',\n",
    "    overwrite=False,\n",
    ")"
   ]
  },
  {
   "cell_type": "code",
   "execution_count": 16,
   "metadata": {},
   "outputs": [],
   "source": [
    "date = \"2020-04-19\"\n",
    "df = dataframe_to_googlesheet(db, date)\n",
    "df.shape\n",
    "\n",
    "wks.append_table(\n",
    "     df.values.tolist(),\n",
    "    start='A2',\n",
    "    end=None,\n",
    "    dimension='ROWS',\n",
    "    overwrite=False,\n",
    ")"
   ]
  },
  {
   "cell_type": "code",
   "execution_count": 17,
   "metadata": {},
   "outputs": [
    {
     "data": {
      "text/plain": [
       "(4, 5)"
      ]
     },
     "execution_count": 17,
     "metadata": {},
     "output_type": "execute_result"
    }
   ],
   "source": [
    "df.shape"
   ]
  },
  {
   "cell_type": "code",
   "execution_count": null,
   "metadata": {},
   "outputs": [],
   "source": []
  }
 ],
 "metadata": {
  "kernelspec": {
   "display_name": "Python 3",
   "language": "python",
   "name": "python3"
  },
  "language_info": {
   "codemirror_mode": {
    "name": "ipython",
    "version": 3
   },
   "file_extension": ".py",
   "mimetype": "text/x-python",
   "name": "python",
   "nbconvert_exporter": "python",
   "pygments_lexer": "ipython3",
   "version": "3.6.9"
  }
 },
 "nbformat": 4,
 "nbformat_minor": 4
}
