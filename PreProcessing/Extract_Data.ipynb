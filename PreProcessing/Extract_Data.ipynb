{
 "cells": [
  {
   "cell_type": "code",
   "execution_count": 1,
   "metadata": {},
   "outputs": [],
   "source": [
    "from pymongo import MongoClient\n",
    "import pandas as pd\n",
    "from bson import ObjectId\n",
    "import pygsheets\n",
    "import pandas as pd\n",
    "\n",
    "\n",
    "secretkey=12345\n",
    "database='akanksha'\n",
    "chatbotuser='akanksha'\n",
    "chatbotpass='akanksha'\n",
    "dbport=27017\n",
    "\n",
    "username = chatbotuser\n",
    "password = chatbotpass\n",
    "database_name = database\n",
    "port = 27017\n",
    "server_address = \"localhost\"\n",
    "\n",
    "uri = \"mongodb://{}:{}@{}:{}/{}\".format(username, password, server_address, port, database_name)\n",
    "client = MongoClient(uri)\n",
    "db = client.akanksha"
   ]
  },
  {
   "cell_type": "code",
   "execution_count": 2,
   "metadata": {},
   "outputs": [
    {
     "data": {
      "text/plain": [
       "(11086, 14)"
      ]
     },
     "execution_count": 2,
     "metadata": {},
     "output_type": "execute_result"
    }
   ],
   "source": [
    "cursor = list(db.QuestionAnswer.find({'project_id' : '5dc15779c346052fe774a8d1'}))\n",
    "df1 = pd.DataFrame(cursor)\n",
    "df1.shape"
   ]
  },
  {
   "cell_type": "code",
   "execution_count": 3,
   "metadata": {},
   "outputs": [
    {
     "data": {
      "text/plain": [
       "(11086, 2)"
      ]
     },
     "execution_count": 3,
     "metadata": {},
     "output_type": "execute_result"
    }
   ],
   "source": [
    "df1.drop(columns=['_id', 'datetime', 'response_time', 'project_id',\n",
    "       'ip_address', 'location', 'platform', 'email_id', 'is_archived', 'flag',\n",
    "       'last_modified', 'user_id'], inplace=True)\n",
    "df1.shape"
   ]
  },
  {
   "cell_type": "code",
   "execution_count": 4,
   "metadata": {},
   "outputs": [
    {
     "data": {
      "text/plain": [
       "(13, 5)"
      ]
     },
     "execution_count": 4,
     "metadata": {},
     "output_type": "execute_result"
    }
   ],
   "source": [
    "cursor = list(db.AnswerIntent.find({'project_id' : '5dc15779c346052fe774a8d1'}))\n",
    "df2 = pd.DataFrame(cursor)\n",
    "df2.shape"
   ]
  },
  {
   "cell_type": "code",
   "execution_count": 5,
   "metadata": {},
   "outputs": [
    {
     "data": {
      "text/plain": [
       "(13, 2)"
      ]
     },
     "execution_count": 5,
     "metadata": {},
     "output_type": "execute_result"
    }
   ],
   "source": [
    "df2.drop(columns = ['_id', 'project_id', 'datetime'], inplace=True)\n",
    "df2.shape"
   ]
  },
  {
   "cell_type": "code",
   "execution_count": 6,
   "metadata": {},
   "outputs": [
    {
     "data": {
      "text/html": [
       "<div>\n",
       "<style scoped>\n",
       "    .dataframe tbody tr th:only-of-type {\n",
       "        vertical-align: middle;\n",
       "    }\n",
       "\n",
       "    .dataframe tbody tr th {\n",
       "        vertical-align: top;\n",
       "    }\n",
       "\n",
       "    .dataframe thead th {\n",
       "        text-align: right;\n",
       "    }\n",
       "</style>\n",
       "<table border=\"1\" class=\"dataframe\">\n",
       "  <thead>\n",
       "    <tr style=\"text-align: right;\">\n",
       "      <th></th>\n",
       "      <th>question</th>\n",
       "      <th>answer</th>\n",
       "      <th>intent</th>\n",
       "    </tr>\n",
       "  </thead>\n",
       "  <tbody>\n",
       "    <tr>\n",
       "      <th>6263</th>\n",
       "      <td>I am working professional in IT services, grad...</td>\n",
       "      <td>From morning 8.30 AM to 7.30 PM the fellowshi...</td>\n",
       "      <td>NaN</td>\n",
       "    </tr>\n",
       "    <tr>\n",
       "      <th>2231</th>\n",
       "      <td>What will be the  fees</td>\n",
       "      <td>The program is free to the fellows. You do no...</td>\n",
       "      <td>NaN</td>\n",
       "    </tr>\n",
       "    <tr>\n",
       "      <th>6204</th>\n",
       "      <td>Actually i got this information from indeed</td>\n",
       "      <td>You will require to register for one of our r...</td>\n",
       "      <td>NaN</td>\n",
       "    </tr>\n",
       "    <tr>\n",
       "      <th>3069</th>\n",
       "      <td>How to apply</td>\n",
       "      <td>You can register here: http://codingtest.brid...</td>\n",
       "      <td>NaN</td>\n",
       "    </tr>\n",
       "    <tr>\n",
       "      <th>4129</th>\n",
       "      <td>is there any branch in pune?</td>\n",
       "      <td>The first interview depending on your skills ...</td>\n",
       "      <td>NaN</td>\n",
       "    </tr>\n",
       "    <tr>\n",
       "      <th>10150</th>\n",
       "      <td>How to upload the resume in bridgelabz</td>\n",
       "      <td>you can register here: http://codingtest.bridg...</td>\n",
       "      <td>registration</td>\n",
       "    </tr>\n",
       "    <tr>\n",
       "      <th>7961</th>\n",
       "      <td>is there any walkin interview tomorrow</td>\n",
       "      <td>we have 2 labs, one is in bangalore and one is...</td>\n",
       "      <td>NaN</td>\n",
       "    </tr>\n",
       "    <tr>\n",
       "      <th>6871</th>\n",
       "      <td>I am an Bsc graduate</td>\n",
       "      <td>We have placed more than 500 engineers till d...</td>\n",
       "      <td>NaN</td>\n",
       "    </tr>\n",
       "    <tr>\n",
       "      <th>2435</th>\n",
       "      <td>Hi i saw advertisment that hiring software eng...</td>\n",
       "      <td>Bye</td>\n",
       "      <td>NaN</td>\n",
       "    </tr>\n",
       "    <tr>\n",
       "      <th>1934</th>\n",
       "      <td>when can I start?</td>\n",
       "      <td>Our fellows get salaries benchmark with the b...</td>\n",
       "      <td>NaN</td>\n",
       "    </tr>\n",
       "  </tbody>\n",
       "</table>\n",
       "</div>"
      ],
      "text/plain": [
       "                                                question  \\\n",
       "6263   I am working professional in IT services, grad...   \n",
       "2231                              What will be the  fees   \n",
       "6204         Actually i got this information from indeed   \n",
       "3069                                        How to apply   \n",
       "4129                        is there any branch in pune?   \n",
       "10150             How to upload the resume in bridgelabz   \n",
       "7961              is there any walkin interview tomorrow   \n",
       "6871                                I am an Bsc graduate   \n",
       "2435   Hi i saw advertisment that hiring software eng...   \n",
       "1934                                   when can I start?   \n",
       "\n",
       "                                                  answer        intent  \n",
       "6263    From morning 8.30 AM to 7.30 PM the fellowshi...           NaN  \n",
       "2231    The program is free to the fellows. You do no...           NaN  \n",
       "6204    You will require to register for one of our r...           NaN  \n",
       "3069    You can register here: http://codingtest.brid...           NaN  \n",
       "4129    The first interview depending on your skills ...           NaN  \n",
       "10150  you can register here: http://codingtest.bridg...  registration  \n",
       "7961   we have 2 labs, one is in bangalore and one is...           NaN  \n",
       "6871    We have placed more than 500 engineers till d...           NaN  \n",
       "2435                                                 Bye           NaN  \n",
       "1934    Our fellows get salaries benchmark with the b...           NaN  "
      ]
     },
     "execution_count": 6,
     "metadata": {},
     "output_type": "execute_result"
    }
   ],
   "source": [
    "df = df1.merge(df2, on='answer', how='left', suffixes=('_',''))\n",
    "df.sample(10)"
   ]
  },
  {
   "cell_type": "code",
   "execution_count": 7,
   "metadata": {},
   "outputs": [
    {
     "data": {
      "text/plain": [
       "(11086, 3)"
      ]
     },
     "execution_count": 7,
     "metadata": {},
     "output_type": "execute_result"
    }
   ],
   "source": [
    "df.shape"
   ]
  },
  {
   "cell_type": "code",
   "execution_count": 8,
   "metadata": {},
   "outputs": [
    {
     "data": {
      "text/plain": [
       "(8934, 3)"
      ]
     },
     "execution_count": 8,
     "metadata": {},
     "output_type": "execute_result"
    }
   ],
   "source": [
    "df.drop_duplicates(inplace=True)\n",
    "df.shape"
   ]
  },
  {
   "cell_type": "code",
   "execution_count": 9,
   "metadata": {},
   "outputs": [
    {
     "data": {
      "text/plain": [
       "question       0\n",
       "answer         0\n",
       "intent      6094\n",
       "dtype: int64"
      ]
     },
     "execution_count": 9,
     "metadata": {},
     "output_type": "execute_result"
    }
   ],
   "source": [
    "df.isna().sum()"
   ]
  },
  {
   "cell_type": "code",
   "execution_count": 11,
   "metadata": {},
   "outputs": [
    {
     "data": {
      "text/plain": [
       "8934"
      ]
     },
     "execution_count": 11,
     "metadata": {},
     "output_type": "execute_result"
    }
   ],
   "source": [
    "df.fillna(\"missing\", inplace=True)\n",
    "len(df)"
   ]
  },
  {
   "cell_type": "code",
   "execution_count": 12,
   "metadata": {},
   "outputs": [
    {
     "data": {
      "text/html": [
       "<div>\n",
       "<style scoped>\n",
       "    .dataframe tbody tr th:only-of-type {\n",
       "        vertical-align: middle;\n",
       "    }\n",
       "\n",
       "    .dataframe tbody tr th {\n",
       "        vertical-align: top;\n",
       "    }\n",
       "\n",
       "    .dataframe thead th {\n",
       "        text-align: right;\n",
       "    }\n",
       "</style>\n",
       "<table border=\"1\" class=\"dataframe\">\n",
       "  <thead>\n",
       "    <tr style=\"text-align: right;\">\n",
       "      <th></th>\n",
       "      <th>question</th>\n",
       "      <th>answer</th>\n",
       "      <th>intent</th>\n",
       "    </tr>\n",
       "  </thead>\n",
       "  <tbody>\n",
       "    <tr>\n",
       "      <th>0</th>\n",
       "      <td>hiiii</td>\n",
       "      <td>From morning 8.30 AM to 7.30 PM the fellowshi...</td>\n",
       "      <td>missing</td>\n",
       "    </tr>\n",
       "    <tr>\n",
       "      <th>1</th>\n",
       "      <td>How much I have to pay</td>\n",
       "      <td>The program is free to the fellows. You do no...</td>\n",
       "      <td>missing</td>\n",
       "    </tr>\n",
       "    <tr>\n",
       "      <th>2</th>\n",
       "      <td>Hi</td>\n",
       "      <td>Hello</td>\n",
       "      <td>missing</td>\n",
       "    </tr>\n",
       "    <tr>\n",
       "      <th>3</th>\n",
       "      <td>i need a job</td>\n",
       "      <td>The program is free to the fellows. You do no...</td>\n",
       "      <td>missing</td>\n",
       "    </tr>\n",
       "    <tr>\n",
       "      <th>4</th>\n",
       "      <td>salary?</td>\n",
       "      <td>Our fellows get salaries benchmark with the b...</td>\n",
       "      <td>missing</td>\n",
       "    </tr>\n",
       "  </tbody>\n",
       "</table>\n",
       "</div>"
      ],
      "text/plain": [
       "                 question                                             answer  \\\n",
       "0                   hiiii   From morning 8.30 AM to 7.30 PM the fellowshi...   \n",
       "1  How much I have to pay   The program is free to the fellows. You do no...   \n",
       "2                      Hi                                              Hello   \n",
       "3            i need a job   The program is free to the fellows. You do no...   \n",
       "4                 salary?   Our fellows get salaries benchmark with the b...   \n",
       "\n",
       "    intent  \n",
       "0  missing  \n",
       "1  missing  \n",
       "2  missing  \n",
       "3  missing  \n",
       "4  missing  "
      ]
     },
     "execution_count": 12,
     "metadata": {},
     "output_type": "execute_result"
    }
   ],
   "source": [
    "df.head()"
   ]
  },
  {
   "cell_type": "code",
   "execution_count": 13,
   "metadata": {},
   "outputs": [
    {
     "data": {
      "text/plain": [
       "(2840, 3)"
      ]
     },
     "execution_count": 13,
     "metadata": {},
     "output_type": "execute_result"
    }
   ],
   "source": [
    "data = df[df['intent'] != 'missing']\n",
    "data.shape"
   ]
  },
  {
   "cell_type": "code",
   "execution_count": 14,
   "metadata": {},
   "outputs": [],
   "source": [
    "data.to_csv(\"Data.csv\")"
   ]
  }
 ],
 "metadata": {
  "kernelspec": {
   "display_name": "Python 3",
   "language": "python",
   "name": "python3"
  },
  "language_info": {
   "codemirror_mode": {
    "name": "ipython",
    "version": 3
   },
   "file_extension": ".py",
   "mimetype": "text/x-python",
   "name": "python",
   "nbconvert_exporter": "python",
   "pygments_lexer": "ipython3",
   "version": "3.6.9"
  }
 },
 "nbformat": 4,
 "nbformat_minor": 4
}
